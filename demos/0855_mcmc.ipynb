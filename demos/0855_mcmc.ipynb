{
 "cells": [
  {
   "cell_type": "markdown",
   "metadata": {},
   "source": [
    "### Code to find the events of 0855-0714 and then find the probabilites of various mass uncertainties.\n",
    "\n",
    "Note: you'll find the first part is a lot like the other demo. The main purpose of this is to show how the MCMC code works."
   ]
  },
  {
   "cell_type": "code",
   "execution_count": null,
   "metadata": {},
   "outputs": [],
   "source": [
    "# add path to module so can import\n",
    "import sys\n",
    "sys.path = ['/users/judah/mlfinder'] + sys.path\n",
    "\n",
    "# basic imports\n",
    "from astropy.io import ascii\n",
    "from astropy.table import Table\n",
    "\n",
    "import pandas as pd\n",
    "import numpy as np\n",
    "\n",
    "import matplotlib.pyplot as plt\n",
    "import corner\n",
    "\n",
    "# import module\n",
    "from mlfinder.bd import BrownDwarf\n",
    "from mlfinder.fields import Fields\n",
    "from mlfinder.events import FindEvents\n",
    "from mlfinder.mcmc import MonteCarlo"
   ]
  },
  {
   "cell_type": "markdown",
   "metadata": {},
   "source": [
    "**Getting my brown dwarf data...**"
   ]
  },
  {
   "cell_type": "code",
   "execution_count": 2,
   "metadata": {},
   "outputs": [],
   "source": [
    "# function to get only the number in a str (no +-). used in cell below\n",
    "def number_only(string):\n",
    "    string = str(string.replace(\" \", \"\"))\n",
    "    \n",
    "    for i in range(len(string)):\n",
    "        try:\n",
    "            float(string)\n",
    "            return string\n",
    "        except:\n",
    "            return number_only(string[:len(string) - 1])"
   ]
  },
  {
   "cell_type": "code",
   "execution_count": 3,
   "metadata": {},
   "outputs": [
    {
     "data": {
      "text/plain": [
       "array(['object_name', 'ra', 'pm_ra', 'dec', 'pm_dec', 'pi', 'mu_alpha',\n",
       "       'mu_delta', 'pm_pi', 'pm_mu_alpha', 'pm_mu_delta'], dtype=object)"
      ]
     },
     "execution_count": 3,
     "metadata": {},
     "output_type": "execute_result"
    }
   ],
   "source": [
    "candidate_stars = pd.read_csv('apjsaaf6aft4_ascii.txt', sep='\\t')\n",
    "candidate_stars = candidate_stars[['(1)', '(2)', '(3)', '(4)', '(5)', '(6)', '(8)', '(9)']]\n",
    "\n",
    "# rename columns\n",
    "candidate_stars.rename(columns = {'(1)':'object_name', '(2)':'ra', '(3)':'pm_ra', '(4)':'dec',\n",
    "                                  '(5)':'pm_dec', '(6)':'pi', '(8)':'mu_alpha', '(9)':'mu_delta'}, \n",
    "                                  inplace=True)\n",
    "\n",
    "# make pi and mu columns into pm_pi and pm_mu columns\n",
    "pm_pi = [i.split()[2] for i in candidate_stars.pi]\n",
    "pm_mu_a = [i.split()[2] for i in candidate_stars.mu_alpha]\n",
    "pm_mu_d = [i.split()[2] for i in candidate_stars.mu_delta]\n",
    "\n",
    "candidate_stars['pm_pi'] = pm_pi\n",
    "candidate_stars['pm_mu_alpha'] = pm_mu_a\n",
    "candidate_stars['pm_mu_delta'] = pm_mu_d\n",
    "\n",
    "brown_dwarf = pd.DataFrame(candidate_stars.iloc[list(candidate_stars['object_name']).index('WISE 0855-0714'), :]).T\n",
    "\n",
    "# grab only numbers (complicated to get value because brown dwarf is subsection of candidate_stars)\n",
    "brown_dwarf['pi'] = number_only(brown_dwarf['pi'].values[0])\n",
    "brown_dwarf['mu_alpha'] = number_only(brown_dwarf['mu_alpha'].values[0])\n",
    "brown_dwarf['mu_delta'] = number_only(brown_dwarf['mu_delta'].values[0])\n",
    "\n",
    "brown_dwarf.columns.values"
   ]
  },
  {
   "cell_type": "markdown",
   "metadata": {},
   "source": [
    "**Creating the brown dwarf class, fields class, and getting the events.**"
   ]
  },
  {
   "cell_type": "code",
   "execution_count": 4,
   "metadata": {},
   "outputs": [],
   "source": [
    "bd = BrownDwarf(brown_dwarf)\n",
    "\n",
    "bd_path = bd.find_path(start='2020-Jan-01', end='2030-Jan-01', step='3months')"
   ]
  },
  {
   "cell_type": "code",
   "execution_count": 5,
   "metadata": {},
   "outputs": [],
   "source": [
    "stars = Fields(bd=bd, file=r'C:\\Users\\judah\\candidate_stars_background\\dr8\\0855-0714_bs.txt')"
   ]
  },
  {
   "cell_type": "code",
   "execution_count": 6,
   "metadata": {
    "scrolled": true
   },
   "outputs": [
    {
     "data": {
      "text/html": [
       "<div>\n",
       "<style scoped>\n",
       "    .dataframe tbody tr th:only-of-type {\n",
       "        vertical-align: middle;\n",
       "    }\n",
       "\n",
       "    .dataframe tbody tr th {\n",
       "        vertical-align: top;\n",
       "    }\n",
       "\n",
       "    .dataframe thead th {\n",
       "        text-align: right;\n",
       "    }\n",
       "</style>\n",
       "<table border=\"1\" class=\"dataframe\">\n",
       "  <thead>\n",
       "    <tr style=\"text-align: right;\">\n",
       "      <th></th>\n",
       "      <th>decals_id</th>\n",
       "      <th>ra</th>\n",
       "      <th>dec</th>\n",
       "      <th>dered_mag_r</th>\n",
       "      <th>gaia_pointsource</th>\n",
       "      <th>time</th>\n",
       "      <th>bd_ra</th>\n",
       "      <th>bd_dec</th>\n",
       "      <th>sep</th>\n",
       "      <th>delta_ml</th>\n",
       "    </tr>\n",
       "  </thead>\n",
       "  <tbody>\n",
       "    <tr>\n",
       "      <th>0</th>\n",
       "      <td>7.696600e+15</td>\n",
       "      <td>-0.001426</td>\n",
       "      <td>0.000926</td>\n",
       "      <td>22.0466</td>\n",
       "      <td>0.0</td>\n",
       "      <td>2020.748802</td>\n",
       "      <td>-0.001603</td>\n",
       "      <td>0.000150</td>\n",
       "      <td>2.864957</td>\n",
       "      <td>167.892884</td>\n",
       "    </tr>\n",
       "    <tr>\n",
       "      <th>1</th>\n",
       "      <td>7.696600e+15</td>\n",
       "      <td>-0.015178</td>\n",
       "      <td>0.001579</td>\n",
       "      <td>20.9807</td>\n",
       "      <td>0.0</td>\n",
       "      <td>2026.747433</td>\n",
       "      <td>-0.015240</td>\n",
       "      <td>0.001282</td>\n",
       "      <td>1.090253</td>\n",
       "      <td>63.891282</td>\n",
       "    </tr>\n",
       "  </tbody>\n",
       "</table>\n",
       "</div>"
      ],
      "text/plain": [
       "      decals_id        ra       dec  dered_mag_r  gaia_pointsource  \\\n",
       "0  7.696600e+15 -0.001426  0.000926      22.0466               0.0   \n",
       "1  7.696600e+15 -0.015178  0.001579      20.9807               0.0   \n",
       "\n",
       "          time     bd_ra    bd_dec       sep    delta_ml  \n",
       "0  2020.748802 -0.001603  0.000150  2.864957  167.892884  \n",
       "1  2026.747433 -0.015240  0.001282  1.090253   63.891282  "
      ]
     },
     "execution_count": 6,
     "metadata": {},
     "output_type": "execute_result"
    }
   ],
   "source": [
    "events = FindEvents(bd, stars, 5)\n",
    "\n",
    "events.event_table"
   ]
  },
  {
   "cell_type": "markdown",
   "metadata": {},
   "source": [
    "**Just to prove to ourselves that it's working so far, lets look at the brown dwarf path.**"
   ]
  },
  {
   "cell_type": "code",
   "execution_count": 7,
   "metadata": {
    "scrolled": true
   },
   "outputs": [
    {
     "data": {
      "image/png": "[encoded data removed]",
      "text/plain": [
       "<Figure size 432x288 with 1 Axes>"
      ]
     },
     "metadata": {
      "needs_background": "light"
     },
     "output_type": "display_data"
    }
   ],
   "source": [
    "event_path_fig = events.plot_event_path(zoom=0.5, gaia_check=True, legend=False, point_size=8, font_size=10, figsize=None, label_size=14, years=5)"
   ]
  },
  {
   "cell_type": "markdown",
   "metadata": {},
   "source": [
    "**Now for the MCMC stuff:**"
   ]
  },
  {
   "cell_type": "code",
   "execution_count": 8,
   "metadata": {},
   "outputs": [],
   "source": [
    "# create a MonteCarlo instance and then sample/vary all the data a number of times\n",
    "mc_all = MonteCarlo(bd=bd, events=events, vary=['ra', 'dec', 'pi', 'mu_alpha', 'mu_delta'], which=1, samples=1000)\n",
    "mc_all_change = mc_all.sampler()"
   ]
  },
  {
   "cell_type": "code",
   "execution_count": 13,
   "metadata": {},
   "outputs": [
    {
     "data": {
      "text/plain": [
       "<matplotlib.legend.Legend at 0x2bbf1579b70>"
      ]
     },
     "execution_count": 13,
     "metadata": {},
     "output_type": "execute_result"
    },
    {
     "data": {
      "image/png": "[encoded data removed]",
      "text/plain": [
       "<Figure size 432x288 with 1 Axes>"
      ]
     },
     "metadata": {
      "needs_background": "light"
     },
     "output_type": "display_data"
    }
   ],
   "source": [
    "# plot these results in a histogram\n",
    "plt.hist(mc_all_change, bins=50)\n",
    "\n",
    "# add a verticle line to show what we measured\n",
    "plt.axvline(mc_all.event.delta_ml, color='red', label='mjup=63.89')\n",
    "\n",
    "plt.ylabel('number')\n",
    "plt.xlabel('mjup')\n",
    "plt.legend()"
   ]
  },
  {
   "cell_type": "code",
   "execution_count": null,
   "metadata": {},
   "outputs": [],
   "source": [
    "# now make a corner plot. this will require me to create an instance of MonteCarlo for each variable I'm varying.\n",
    "mc_ra = MonteCarlo(bd=bd, events=events, vary=['ra'], which=1, samples=1000)\n",
    "ra_change = mc_ra.sampler()\n",
    "\n",
    "mc_dec = MonteCarlo(bd=bd, events=events, vary=['dec'], which=1, samples=1000)\n",
    "dec_change = mc_dec.sampler()\n",
    "\n",
    "mc_pi = MonteCarlo(bd=bd, events=events, vary=['pi'], which=1, samples=1000)\n",
    "pi_change = mc_pi.sampler()\n",
    "\n",
    "mc_mu_alpha = MonteCarlo(bd=bd, events=events, vary=['mu_alpha'], which=1, samples=1000)\n",
    "mu_alpha_change = mc_mu_alpha.sampler()\n",
    "\n",
    "mc_mu_delta = MonteCarlo(bd=bd, events=events, vary=['mu_delta'], which=1, samples=1000)\n",
    "mu_delta_change = mc_mu_delta.sampler()"
   ]
  },
  {
   "cell_type": "code",
   "execution_count": null,
   "metadata": {},
   "outputs": [],
   "source": [
    "array = np.column_stack((ra_change, dec_change, pi_change, mu_alpha_change, mu_delta_change))\n",
    "plot = corner.corner(array, labels=[r'$\\alpha$', r'$\\delta$', r'$\\pi$', r'$\\mu_{\\alpha}$', r'$\\mu_{\\delta}$'])"
   ]
  },
  {
   "cell_type": "code",
   "execution_count": null,
   "metadata": {},
   "outputs": [],
   "source": []
  }
 ],
 "metadata": {
  "kernelspec": {
   "display_name": "Python 3",
   "language": "python",
   "name": "python3"
  },
  "language_info": {
   "codemirror_mode": {
    "name": "ipython",
    "version": 3
   },
   "file_extension": ".py",
   "mimetype": "text/x-python",
   "name": "python",
   "nbconvert_exporter": "python",
   "pygments_lexer": "ipython3",
   "version": "3.7.1"
  }
 },
 "nbformat": 4,
 "nbformat_minor": 2
}
